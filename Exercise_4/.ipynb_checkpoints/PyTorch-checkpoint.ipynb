{
 "cells": [
  {
   "cell_type": "code",
   "execution_count": 54,
   "metadata": {},
   "outputs": [
    {
     "name": "stdout",
     "output_type": "stream",
     "text": [
      "The autoreload extension is already loaded. To reload it, use:\n",
      "  %reload_ext autoreload\n"
     ]
    }
   ],
   "source": [
    "%load_ext autoreload\n",
    "%autoreload 2"
   ]
  },
  {
   "cell_type": "code",
   "execution_count": 55,
   "metadata": {},
   "outputs": [],
   "source": [
    "import numpy as np\n",
    "import matplotlib.pyplot as plt"
   ]
  },
  {
   "cell_type": "markdown",
   "metadata": {},
   "source": [
    "# Introduction to PyTorch"
   ]
  },
  {
   "cell_type": "markdown",
   "metadata": {},
   "source": [
    "In the last exercise we discussed the mechanisms of gradient backpropagation and implemented the corresponding functionality in the ``toolbox`` module. This exercise introduces PyTorch, a Deep Learning framework providing powerful tools for simple and efficient implementations of neural networks.\n",
    "\n",
    "First, we need to import the corresponding Python module:"
   ]
  },
  {
   "cell_type": "code",
   "execution_count": 56,
   "metadata": {},
   "outputs": [],
   "source": [
    "import torch"
   ]
  },
  {
   "cell_type": "markdown",
   "metadata": {},
   "source": [
    "The basic building block of PyTorch are Tensors, which behave very similar to the class ``toolbox.Tensor`` from last week. Tensors can be initialized by passing a NumPy array or by calling dedicated functions with syntax similar to NumPy:"
   ]
  },
  {
   "cell_type": "code",
   "execution_count": 57,
   "metadata": {},
   "outputs": [],
   "source": [
    "a = torch.tensor(np.array([[1., 2.], [3., 4.]]))\n",
    "b = torch.ones(2, 2)\n",
    "c = torch.empty(5)"
   ]
  },
  {
   "cell_type": "code",
   "execution_count": 58,
   "metadata": {},
   "outputs": [
    {
     "name": "stdout",
     "output_type": "stream",
     "text": [
      "tensor([[1., 2.],\n",
      "        [3., 4.]], dtype=torch.float64)\n",
      "tensor([[1., 1.],\n",
      "        [1., 1.]])\n",
      "tensor([[1., 1.],\n",
      "        [1., 1.]])\n"
     ]
    }
   ],
   "source": [
    "print(a)\n",
    "print(b)\n",
    "print(b)"
   ]
  },
  {
   "cell_type": "markdown",
   "metadata": {},
   "source": [
    "PyTorch features the same mechanism for gradient backpropagation as developed in last week's exercise and even provides the same attribute names:\n",
    "- ``data`` stores the internal data of the tensor representing its value.\n",
    "- ``requires_grad`` specifies if the tensor participates in the build-up of the computation graph.\n",
    "- ``grad`` keeps a tensor storing the gradient of the last backpropagation for leaf nodes of the graph with ``requires_grad=True``.\n",
    "- ``grad_fn`` points to the operation generating the tensor; ``None`` if the tensor is a leaf node.\n",
    "\n",
    "Again, the backpropagation is initiated by calling ``backward`` on a tensor."
   ]
  },
  {
   "cell_type": "code",
   "execution_count": 59,
   "metadata": {},
   "outputs": [],
   "source": [
    "a = torch.tensor(1., requires_grad=True)\n",
    "b = torch.tensor(2.)"
   ]
  },
  {
   "cell_type": "code",
   "execution_count": 60,
   "metadata": {},
   "outputs": [],
   "source": [
    "c = a + b\n",
    "d = c + a\n",
    "d = d * d"
   ]
  },
  {
   "cell_type": "code",
   "execution_count": 61,
   "metadata": {},
   "outputs": [],
   "source": [
    "d.backward()"
   ]
  },
  {
   "cell_type": "code",
   "execution_count": 62,
   "metadata": {},
   "outputs": [
    {
     "name": "stdout",
     "output_type": "stream",
     "text": [
      "None\n",
      "tensor(16.)\n",
      "<AddBackward0 object at 0x0000028F8528B5B0>\n",
      "<MulBackward0 object at 0x0000028F852B3100>\n"
     ]
    }
   ],
   "source": [
    "print(b.grad)\n",
    "print(a.grad)\n",
    "print(c.grad_fn)\n",
    "print(d.grad_fn)"
   ]
  },
  {
   "cell_type": "markdown",
   "metadata": {},
   "source": [
    "Again, computation graphs will not be held alive causing errors when calling ``backward`` multiple times:"
   ]
  },
  {
   "cell_type": "code",
   "execution_count": 63,
   "metadata": {
    "scrolled": true
   },
   "outputs": [
    {
     "name": "stdout",
     "output_type": "stream",
     "text": [
      "Not working...\n"
     ]
    }
   ],
   "source": [
    "try:\n",
    "    d.backward()\n",
    "except:\n",
    "    print(\"Not working...\")"
   ]
  },
  {
   "cell_type": "markdown",
   "metadata": {},
   "source": [
    "## Inference"
   ]
  },
  {
   "cell_type": "markdown",
   "metadata": {},
   "source": [
    "At inference time one usually does not want to bulild up the computation graph for calculating the gradients as it's computationally expensive and bears the danger of memory leakage. Therefore PyTorch provides the context manager ``torch.no_grad`` for disabling gradient computations:"
   ]
  },
  {
   "cell_type": "code",
   "execution_count": 64,
   "metadata": {},
   "outputs": [
    {
     "name": "stdout",
     "output_type": "stream",
     "text": [
      "Not working...\n"
     ]
    }
   ],
   "source": [
    "a = torch.tensor(1., requires_grad=True)\n",
    "b = torch.tensor(2.)\n",
    "\n",
    "with torch.no_grad():\n",
    "    c = a + b\n",
    "\n",
    "try:\n",
    "    c.backward()\n",
    "except:\n",
    "    print(\"Not working...\")"
   ]
  },
  {
   "cell_type": "markdown",
   "metadata": {},
   "source": [
    "## CUDA [Only works on systems with a GPU - not required for the graded task]"
   ]
  },
  {
   "cell_type": "markdown",
   "metadata": {},
   "source": [
    "Until now, all computations in this exercise class were carried out on a CPU. The hardware of choice for Deep Learning applications, however, are GPUs. The high amount of parallelization and efficient calculation of simple operations on GPUs are highly beneficial for training and inference in artificial neural networks. Therefore, all major Deep Learning frameworks offer the possibility of utilizing GPUs.\n",
    "\n",
    "In PyTorch we can move a tensor to the GPU by simply calling the function ``cuda`` returning a pointer to the tensor. The device of a tensor can be determined using the ``device`` attribute."
   ]
  },
  {
   "cell_type": "code",
   "execution_count": 65,
   "metadata": {},
   "outputs": [
    {
     "name": "stdout",
     "output_type": "stream",
     "text": [
      "cpu\n"
     ]
    }
   ],
   "source": [
    "a = torch.tensor(2.)\n",
    "print(a.device)"
   ]
  },
  {
   "cell_type": "code",
   "execution_count": 66,
   "metadata": {},
   "outputs": [
    {
     "name": "stdout",
     "output_type": "stream",
     "text": [
      "cuda:0\n"
     ]
    }
   ],
   "source": [
    "a = a.cuda()\n",
    "print(a.device)"
   ]
  },
  {
   "cell_type": "markdown",
   "metadata": {},
   "source": [
    "In the above output, ``cuda`` means that the tensor is located on a GPU and the number after the colon specifies the device among all available GPUs."
   ]
  },
  {
   "cell_type": "markdown",
   "metadata": {},
   "source": [
    "## Data sets"
   ]
  },
  {
   "cell_type": "markdown",
   "metadata": {},
   "source": [
    "Data are one driving force in the field of machine learning and therefore it is important to deal with data properly. Luckily, PyTorch provides some handy tools which make the treatment of data very easy. The base class for representing data sets is ``torch.utils.data.Dataset``. This class overloads the functions ``__len__`` and ``__getitem__`` which allow us to easily access data contained in the set as we know it for example from Pythons lists.\n",
    "\n",
    "PyTorch already comprises wrapper classes for some poular data sets in ``torchvision.datasets``. To get started, we will use the MNIST data set of handwritten digits from LeCun et al. http://yann.lecun.com/exdb/mnist/. The argument ``transform`` below forces the data to be converted to PyTorch Tensors."
   ]
  },
  {
   "cell_type": "code",
   "execution_count": 67,
   "metadata": {},
   "outputs": [],
   "source": [
    "from torchvision.datasets import MNIST\n",
    "from torchvision import transforms"
   ]
  },
  {
   "cell_type": "code",
   "execution_count": 68,
   "metadata": {},
   "outputs": [],
   "source": [
    "train_set = MNIST('data', download=True, transform=transforms.ToTensor())\n",
    "test_set = MNIST('data', train=False, transform=transforms.ToTensor())"
   ]
  },
  {
   "cell_type": "code",
   "execution_count": 69,
   "metadata": {},
   "outputs": [
    {
     "name": "stdout",
     "output_type": "stream",
     "text": [
      "60000\n",
      "10000\n"
     ]
    }
   ],
   "source": [
    "print(len(train_set))\n",
    "print(len(test_set))"
   ]
  },
  {
   "cell_type": "markdown",
   "metadata": {},
   "source": [
    "The single elements of these data sets are tuples containing an image representing a handwritten digit stored as an array in a PyTorch Tensor and the corresponding value of the digit as label."
   ]
  },
  {
   "cell_type": "code",
   "execution_count": 70,
   "metadata": {},
   "outputs": [
    {
     "name": "stdout",
     "output_type": "stream",
     "text": [
      "<class 'tuple'>\n",
      "torch.Size([1, 28, 28])\n",
      "5\n"
     ]
    }
   ],
   "source": [
    "el = train_set[0]\n",
    "print(type(el))\n",
    "print(el[0].shape)\n",
    "print(el[1])"
   ]
  },
  {
   "cell_type": "markdown",
   "metadata": {},
   "source": [
    "So we know the value of the digit represented in the image is 5. We can show the corresponding image using ``matplotlib.pyplot.imshow``."
   ]
  },
  {
   "cell_type": "code",
   "execution_count": 71,
   "metadata": {},
   "outputs": [
    {
     "data": {
      "text/plain": [
       "Text(0.5, 1.0, 'Label: 5')"
      ]
     },
     "execution_count": 71,
     "metadata": {},
     "output_type": "execute_result"
    },
    {
     "data": {
      "image/png": "[encoded data removed]",
      "text/plain": [
       "<Figure size 432x288 with 1 Axes>"
      ]
     },
     "metadata": {
      "needs_background": "light"
     },
     "output_type": "display_data"
    }
   ],
   "source": [
    "plt.imshow(el[0][0], cmap='gray', vmin=0., vmax=1.)\n",
    "plt.title('Label: {}'.format(el[1]))"
   ]
  },
  {
   "cell_type": "markdown",
   "metadata": {},
   "source": [
    "Note that ``imshow`` requires grayscale images to be of size $H\\times W$ but ``el`` is of size $1\\times H \\times W$. The reason therefor is that images are in general represented as $C \\times H \\times W$ arrays, where $C$ denotes the number of channels of the image. For color images $C$ typically amounts to $3$, for grayscale images to $1$."
   ]
  },
  {
   "cell_type": "markdown",
   "metadata": {},
   "source": [
    "## Data loaders"
   ]
  },
  {
   "cell_type": "markdown",
   "metadata": {},
   "source": [
    "Equally important as the data itself is the process of loading it efficiently to the processing unit. PyTorch provides an easy interface for tackling this problem. Most of the time, we also want mini-batches of data rather than single elements of our data set. The class ``DataLoader`` from ``torch.utils.data`` takes care of this and we only have to provide the data set and define the batch size. Additionally, we may specify further arguments like whether we want the data to be shuffled or the number of workers involved in the process of loading the data."
   ]
  },
  {
   "cell_type": "code",
   "execution_count": 72,
   "metadata": {},
   "outputs": [],
   "source": [
    "from torch.utils.data import DataLoader"
   ]
  },
  {
   "cell_type": "code",
   "execution_count": 73,
   "metadata": {},
   "outputs": [],
   "source": [
    "train_loader = DataLoader(train_set, batch_size=4, num_workers=4, shuffle=True)"
   ]
  },
  {
   "cell_type": "markdown",
   "metadata": {},
   "source": [
    "Let's have a look at one of the mini-batches:"
   ]
  },
  {
   "cell_type": "code",
   "execution_count": 74,
   "metadata": {},
   "outputs": [],
   "source": [
    "batch = iter(train_loader).next()\n",
    "\n",
    "data = batch[0]\n",
    "labels = batch[1]"
   ]
  },
  {
   "cell_type": "code",
   "execution_count": 75,
   "metadata": {},
   "outputs": [
    {
     "name": "stdout",
     "output_type": "stream",
     "text": [
      "<class 'list'>\n",
      "torch.Size([4, 1, 28, 28])\n"
     ]
    }
   ],
   "source": [
    "print(type(batch))\n",
    "print(batch[0].shape)"
   ]
  },
  {
   "cell_type": "markdown",
   "metadata": {},
   "source": [
    "The shape of the array has increased by the first dimension related to the differnt batch elements, i.e. the general shape for images in mini-batches is $B \\times C \\times H \\times W$ where $B$ is the batch size. Let's visualize the images of this mini-batch:"
   ]
  },
  {
   "cell_type": "code",
   "execution_count": 76,
   "metadata": {},
   "outputs": [
    {
     "data": {
      "image/png": "[encoded data removed]",
      "text/plain": [
       "<Figure size 432x288 with 4 Axes>"
      ]
     },
     "metadata": {
      "needs_background": "light"
     },
     "output_type": "display_data"
    }
   ],
   "source": [
    "for i in range(4):\n",
    "    plt.subplot(1, 4, i+1)\n",
    "    plt.imshow(data[i, 0], cmap='gray', vmin=0., vmax=1.)\n",
    "    plt.title('Label: {}'.format(labels[i]))"
   ]
  },
  {
   "cell_type": "markdown",
   "metadata": {},
   "source": [
    "Note that the elements are randomly shuffled each time we iterate over the data loader."
   ]
  },
  {
   "cell_type": "markdown",
   "metadata": {},
   "source": [
    "## Network"
   ]
  },
  {
   "cell_type": "markdown",
   "metadata": {},
   "source": [
    "Similar to our ``toolbox.Module``, PyTorch defines ``Module`` in ``torch.nn`` which serves as base class for neural networks and their layers. For defining a network, you have to inherit from ``torch.nn.Module`` and define the ``forward`` function. Furthermore, ``torch.nn`` provides you with a broad variety of pre-implemented tools and layers you can use in your network. To get a first impression, have a look at the code below:"
   ]
  },
  {
   "cell_type": "code",
   "execution_count": 77,
   "metadata": {},
   "outputs": [],
   "source": [
    "import torch.nn as nn"
   ]
  },
  {
   "cell_type": "code",
   "execution_count": 78,
   "metadata": {},
   "outputs": [],
   "source": [
    "class SimpleNet(nn.Module):\n",
    "    \n",
    "    def __init__(self):\n",
    "        super().__init__()\n",
    "        self.layer1 = nn.Linear(28*28, 20)\n",
    "        self.layer2 = nn.ReLU()\n",
    "        self.layer3 = nn.Linear(20, 10)\n",
    "    \n",
    "    def forward(self, x):\n",
    "        x = x.reshape(-1, 28*28)\n",
    "        x = self.layer1(x)\n",
    "        x = self.layer2(x)\n",
    "        x = self.layer3(x)\n",
    "        return x"
   ]
  },
  {
   "cell_type": "markdown",
   "metadata": {},
   "source": [
    "Let's go through this: In the constructor we instantiate a couple of layers we want to use in the forward pass. For the linear layer we have to specifty the input and output dimensions of our linear transformations. The batch sizes usually are excluded from these size considerations as the data is procesed separately for each element in the mini-batch. To shed light on this mechanism, consider ``layer3``. It expects inputs of size $B \\times 20$, multiplies each element of the batch with a matrix of size $10 \\times 20$ (and possibly adds some vector afterwards) and outputs the transformed data of size $B \\times 10$.\n",
    "\n",
    "In order to be able to pass an image to a linear layer, we have to resize the image with the dimensions $B \\times C \\times H \\times W$ to a vector of size $B \\times \\left( C \\cdot H \\cdot W \\right)$. The forward pass of an object of type ``torch.nn.Module`` can be performed by simply calling the object itself like this:"
   ]
  },
  {
   "cell_type": "code",
   "execution_count": 79,
   "metadata": {},
   "outputs": [],
   "source": [
    "network = SimpleNet()"
   ]
  },
  {
   "cell_type": "code",
   "execution_count": 80,
   "metadata": {},
   "outputs": [
    {
     "name": "stdout",
     "output_type": "stream",
     "text": [
      "torch.Size([4, 10])\n"
     ]
    }
   ],
   "source": [
    "with torch.no_grad():\n",
    "    output = network(batch[0])\n",
    "print(output.shape)"
   ]
  },
  {
   "cell_type": "code",
   "execution_count": 81,
   "metadata": {},
   "outputs": [
    {
     "name": "stdout",
     "output_type": "stream",
     "text": [
      "tensor([1, 0, 1, 0])\n",
      "tensor([0, 7, 8, 2])\n"
     ]
    }
   ],
   "source": [
    "_, pred_labels = output.max(dim=1)\n",
    "\n",
    "print(pred_labels)\n",
    "print(labels)"
   ]
  },
  {
   "cell_type": "markdown",
   "metadata": {},
   "source": [
    "We have set the output of the last layer to be of size ten as we want to predict one out of ten labels. We would like our network to assign the highest value of the output on the coordinate corresponding to the correct label. As discussed earlier, the cross entropy loss is suitable for classification tasks penalizing high output values on the wrong labels."
   ]
  },
  {
   "cell_type": "code",
   "execution_count": 82,
   "metadata": {},
   "outputs": [],
   "source": [
    "loss_fun = nn.CrossEntropyLoss()"
   ]
  },
  {
   "cell_type": "code",
   "execution_count": 83,
   "metadata": {},
   "outputs": [
    {
     "name": "stdout",
     "output_type": "stream",
     "text": [
      "tensor(2.2697)\n"
     ]
    }
   ],
   "source": [
    "loss = loss_fun(output, labels)\n",
    "print(loss)"
   ]
  },
  {
   "cell_type": "markdown",
   "metadata": {},
   "source": [
    "## Parameters"
   ]
  },
  {
   "cell_type": "markdown",
   "metadata": {},
   "source": [
    "As soon as it comes to training, we want to modify the network's parameters in order to decrease the loss on the training set. We can access the learnable parameters of a network by calling its ``parameters`` function."
   ]
  },
  {
   "cell_type": "code",
   "execution_count": 84,
   "metadata": {},
   "outputs": [],
   "source": [
    "params = network.parameters()"
   ]
  },
  {
   "cell_type": "code",
   "execution_count": 85,
   "metadata": {},
   "outputs": [
    {
     "name": "stdout",
     "output_type": "stream",
     "text": [
      "torch.Size([20, 784])\n",
      "torch.Size([20])\n",
      "torch.Size([10, 20])\n",
      "torch.Size([10])\n"
     ]
    }
   ],
   "source": [
    "for param in params:\n",
    "    print(param.shape)"
   ]
  },
  {
   "cell_type": "markdown",
   "metadata": {},
   "source": [
    "In our case the parameters of the network are the weights and biases of the two linear layers."
   ]
  },
  {
   "cell_type": "markdown",
   "metadata": {},
   "source": [
    "## Adding multiple layers to a network"
   ]
  },
  {
   "cell_type": "markdown",
   "metadata": {},
   "source": [
    "As the number of layers increases, adding every single layer to the attribute list of the network and explicitly iterating over them in the forward pass can be tedious. A convenient alternative in this case is PyTorch's container class ``torch.nn.Sequential`` which allows you to condense multiple layers into a single ``Module`` object. The usage is straight-forward as you can see in the following example:"
   ]
  },
  {
   "cell_type": "code",
   "execution_count": 86,
   "metadata": {},
   "outputs": [],
   "source": [
    "class SimpleNet2(nn.Module):\n",
    "    \n",
    "    def __init__(self):\n",
    "        super().__init__()\n",
    "        self.layers = nn.Sequential(nn.Linear(28*28, 20), nn.ReLU(), nn.Linear(20, 10))\n",
    "    \n",
    "    def forward(self, x):\n",
    "        x = x.view(-1, 28*28)\n",
    "        x = self.layers(x)\n",
    "        return x"
   ]
  },
  {
   "cell_type": "markdown",
   "metadata": {},
   "source": [
    "**NOTE:** It is not sufficient to store the network's layers in a list as we did in our own ``Network`` class from the second last exercise class. Even though you would still be able to perform a forward pass, the layers are not registered as submodules of the network object and therefore their parameters can't be accessed using the ``parameters`` function."
   ]
  },
  {
   "cell_type": "markdown",
   "metadata": {},
   "source": [
    "## Training on GPU [Only works on systems with a GPU - not required for the graded task]"
   ]
  },
  {
   "cell_type": "markdown",
   "metadata": {},
   "source": [
    "In order to perform training or inference of a network on a GPU we have to move the data as well as the network itself to the GPU. This again works by simply calling the ``cuda`` function."
   ]
  },
  {
   "cell_type": "code",
   "execution_count": 87,
   "metadata": {},
   "outputs": [
    {
     "name": "stdout",
     "output_type": "stream",
     "text": [
      "cuda:0\n",
      "cuda:0\n"
     ]
    }
   ],
   "source": [
    "data, labels = data.cuda(), labels.cuda()\n",
    "network = network.cuda()\n",
    "\n",
    "with torch.no_grad():\n",
    "    output = network(data)\n",
    "    loss = loss_fun(output, labels)\n",
    "\n",
    "print(output.device)\n",
    "print(loss.device)"
   ]
  },
  {
   "cell_type": "code",
   "execution_count": 88,
   "metadata": {},
   "outputs": [
    {
     "data": {
      "text/plain": [
       "OrderedDict([('layer1.weight',\n",
       "              tensor([[ 0.0012, -0.0011,  0.0140,  ..., -0.0287, -0.0113,  0.0345],\n",
       "                      [-0.0357, -0.0099,  0.0240,  ...,  0.0216,  0.0288, -0.0015],\n",
       "                      [-0.0052, -0.0160, -0.0264,  ...,  0.0309,  0.0254,  0.0338],\n",
       "                      ...,\n",
       "                      [-0.0018,  0.0228,  0.0073,  ..., -0.0228, -0.0062,  0.0228],\n",
       "                      [-0.0034, -0.0174, -0.0351,  ..., -0.0232,  0.0251,  0.0115],\n",
       "                      [-0.0224,  0.0107,  0.0090,  ..., -0.0024, -0.0010,  0.0163]],\n",
       "                     device='cuda:0')),\n",
       "             ('layer1.bias',\n",
       "              tensor([-0.0074, -0.0089, -0.0127,  0.0327,  0.0059, -0.0192, -0.0336,  0.0330,\n",
       "                      -0.0218,  0.0121, -0.0177, -0.0335, -0.0175,  0.0240,  0.0287, -0.0193,\n",
       "                       0.0047,  0.0126, -0.0149,  0.0129], device='cuda:0')),\n",
       "             ('layer3.weight',\n",
       "              tensor([[ 5.3276e-02,  2.1955e-01,  1.8376e-01,  8.8122e-02, -4.1500e-02,\n",
       "                       -4.6237e-02, -7.8571e-02,  4.4615e-02,  7.5743e-02,  1.8104e-02,\n",
       "                        4.5156e-02,  1.0798e-01, -4.7350e-02,  7.6887e-02,  1.0066e-01,\n",
       "                        1.2027e-01, -1.3844e-01,  1.6110e-01, -1.6035e-01, -1.5208e-01],\n",
       "                      [-5.1920e-03,  2.1234e-01,  2.5348e-02,  1.1496e-01,  1.2134e-01,\n",
       "                       -1.9490e-01, -4.4962e-02,  2.1488e-02,  8.3755e-02, -1.4861e-01,\n",
       "                        2.1518e-01, -8.5486e-02,  1.2658e-01, -6.4816e-02, -8.3259e-02,\n",
       "                        1.3350e-01,  5.6314e-02,  1.7997e-01,  1.4071e-01,  1.2018e-02],\n",
       "                      [-7.6671e-03,  1.6281e-01, -2.6111e-02,  5.2581e-02, -1.0821e-01,\n",
       "                        1.4150e-01, -1.0433e-01, -3.4157e-02, -2.7304e-02, -2.4007e-02,\n",
       "                        6.6889e-02,  2.2253e-01, -2.1122e-01,  2.1930e-01,  1.2742e-01,\n",
       "                        1.8191e-01,  5.1543e-02, -1.6272e-01,  1.3792e-01,  4.1790e-02],\n",
       "                      [-7.8243e-02,  1.0531e-01,  1.6969e-01, -1.9613e-01,  1.6733e-01,\n",
       "                        8.0436e-02,  8.8327e-02,  1.6522e-01,  1.1096e-01, -2.0488e-01,\n",
       "                        1.9444e-01,  1.4536e-01,  1.3588e-01, -2.1850e-01, -9.2960e-02,\n",
       "                        2.2101e-01,  4.8206e-02,  1.9605e-01, -4.8534e-03,  4.1508e-02],\n",
       "                      [-6.0058e-03, -5.6647e-02,  2.2217e-01,  2.1114e-01, -8.0236e-02,\n",
       "                        1.7321e-01, -1.6066e-01, -1.6742e-01, -3.4260e-03,  2.5031e-02,\n",
       "                        9.4531e-02,  1.9495e-01,  1.7774e-01, -6.9559e-02, -2.2193e-01,\n",
       "                       -9.6307e-02, -1.6687e-01,  7.3679e-02, -2.0727e-01,  1.3148e-01],\n",
       "                      [-9.7011e-02,  1.4197e-01,  2.0452e-02,  8.3486e-02, -1.7996e-01,\n",
       "                       -1.7298e-01, -2.1200e-01,  1.5743e-01, -1.4591e-01, -6.9426e-02,\n",
       "                        1.2635e-01, -1.3308e-01, -5.6390e-02,  1.0977e-01, -1.3317e-01,\n",
       "                        2.0018e-01,  5.7021e-02,  1.3855e-01,  1.3256e-01,  4.7282e-02],\n",
       "                      [-2.2255e-02, -1.3475e-02, -3.8500e-02, -3.9932e-02, -1.0535e-01,\n",
       "                       -9.9983e-02,  7.1769e-02, -2.0918e-01,  1.1537e-01, -4.5126e-02,\n",
       "                        1.3997e-01,  9.3697e-02,  1.3436e-01,  1.3952e-01,  8.7872e-02,\n",
       "                        1.9538e-01,  4.6414e-02, -2.0693e-01, -2.7586e-02, -1.4040e-01],\n",
       "                      [ 1.3154e-01, -4.8423e-03, -1.0411e-02,  4.0355e-02, -1.2307e-01,\n",
       "                        6.0463e-02,  1.0821e-01, -4.3828e-03, -1.4965e-01,  2.5832e-02,\n",
       "                        1.2157e-01, -6.2361e-02,  1.9717e-01, -2.7995e-02, -1.4527e-01,\n",
       "                       -4.3188e-02,  5.9983e-02,  1.6323e-01, -1.9992e-01, -6.9812e-02],\n",
       "                      [-1.2145e-01,  1.9390e-02,  1.5127e-01,  1.9266e-01, -1.0580e-05,\n",
       "                        1.6468e-01,  1.4117e-01, -2.0394e-01,  1.4923e-01, -9.1088e-02,\n",
       "                        1.4058e-01,  6.3819e-02,  1.2300e-01,  1.7192e-01, -2.0603e-01,\n",
       "                       -3.2449e-02, -7.5266e-02,  5.3697e-02, -2.0624e-01,  1.7558e-01],\n",
       "                      [ 1.8377e-01,  1.0519e-01,  2.1599e-01, -4.5582e-02, -8.6107e-02,\n",
       "                        8.4429e-02, -1.4112e-01, -1.7061e-01,  9.5540e-02,  1.9334e-01,\n",
       "                        1.1271e-01, -1.1115e-01,  8.5161e-02,  8.4619e-02,  2.1853e-02,\n",
       "                        8.8822e-02,  1.1337e-01, -1.1916e-01,  1.9487e-01, -1.5102e-01]],\n",
       "                     device='cuda:0')),\n",
       "             ('layer3.bias',\n",
       "              tensor([ 0.1122,  0.0949, -0.0005,  0.1487,  0.0525, -0.1310, -0.1913,  0.1430,\n",
       "                      -0.0915,  0.1709], device='cuda:0'))])"
      ]
     },
     "execution_count": 88,
     "metadata": {},
     "output_type": "execute_result"
    }
   ],
   "source": [
    "network.state_dict()"
   ]
  },
  {
   "cell_type": "code",
   "execution_count": 89,
   "metadata": {},
   "outputs": [
    {
     "data": {
      "text/plain": [
       "[Parameter containing:\n",
       " tensor([[ 0.0012, -0.0011,  0.0140,  ..., -0.0287, -0.0113,  0.0345],\n",
       "         [-0.0357, -0.0099,  0.0240,  ...,  0.0216,  0.0288, -0.0015],\n",
       "         [-0.0052, -0.0160, -0.0264,  ...,  0.0309,  0.0254,  0.0338],\n",
       "         ...,\n",
       "         [-0.0018,  0.0228,  0.0073,  ..., -0.0228, -0.0062,  0.0228],\n",
       "         [-0.0034, -0.0174, -0.0351,  ..., -0.0232,  0.0251,  0.0115],\n",
       "         [-0.0224,  0.0107,  0.0090,  ..., -0.0024, -0.0010,  0.0163]],\n",
       "        device='cuda:0', requires_grad=True),\n",
       " Parameter containing:\n",
       " tensor([-0.0074, -0.0089, -0.0127,  0.0327,  0.0059, -0.0192, -0.0336,  0.0330,\n",
       "         -0.0218,  0.0121, -0.0177, -0.0335, -0.0175,  0.0240,  0.0287, -0.0193,\n",
       "          0.0047,  0.0126, -0.0149,  0.0129], device='cuda:0',\n",
       "        requires_grad=True),\n",
       " Parameter containing:\n",
       " tensor([[ 5.3276e-02,  2.1955e-01,  1.8376e-01,  8.8122e-02, -4.1500e-02,\n",
       "          -4.6237e-02, -7.8571e-02,  4.4615e-02,  7.5743e-02,  1.8104e-02,\n",
       "           4.5156e-02,  1.0798e-01, -4.7350e-02,  7.6887e-02,  1.0066e-01,\n",
       "           1.2027e-01, -1.3844e-01,  1.6110e-01, -1.6035e-01, -1.5208e-01],\n",
       "         [-5.1920e-03,  2.1234e-01,  2.5348e-02,  1.1496e-01,  1.2134e-01,\n",
       "          -1.9490e-01, -4.4962e-02,  2.1488e-02,  8.3755e-02, -1.4861e-01,\n",
       "           2.1518e-01, -8.5486e-02,  1.2658e-01, -6.4816e-02, -8.3259e-02,\n",
       "           1.3350e-01,  5.6314e-02,  1.7997e-01,  1.4071e-01,  1.2018e-02],\n",
       "         [-7.6671e-03,  1.6281e-01, -2.6111e-02,  5.2581e-02, -1.0821e-01,\n",
       "           1.4150e-01, -1.0433e-01, -3.4157e-02, -2.7304e-02, -2.4007e-02,\n",
       "           6.6889e-02,  2.2253e-01, -2.1122e-01,  2.1930e-01,  1.2742e-01,\n",
       "           1.8191e-01,  5.1543e-02, -1.6272e-01,  1.3792e-01,  4.1790e-02],\n",
       "         [-7.8243e-02,  1.0531e-01,  1.6969e-01, -1.9613e-01,  1.6733e-01,\n",
       "           8.0436e-02,  8.8327e-02,  1.6522e-01,  1.1096e-01, -2.0488e-01,\n",
       "           1.9444e-01,  1.4536e-01,  1.3588e-01, -2.1850e-01, -9.2960e-02,\n",
       "           2.2101e-01,  4.8206e-02,  1.9605e-01, -4.8534e-03,  4.1508e-02],\n",
       "         [-6.0058e-03, -5.6647e-02,  2.2217e-01,  2.1114e-01, -8.0236e-02,\n",
       "           1.7321e-01, -1.6066e-01, -1.6742e-01, -3.4260e-03,  2.5031e-02,\n",
       "           9.4531e-02,  1.9495e-01,  1.7774e-01, -6.9559e-02, -2.2193e-01,\n",
       "          -9.6307e-02, -1.6687e-01,  7.3679e-02, -2.0727e-01,  1.3148e-01],\n",
       "         [-9.7011e-02,  1.4197e-01,  2.0452e-02,  8.3486e-02, -1.7996e-01,\n",
       "          -1.7298e-01, -2.1200e-01,  1.5743e-01, -1.4591e-01, -6.9426e-02,\n",
       "           1.2635e-01, -1.3308e-01, -5.6390e-02,  1.0977e-01, -1.3317e-01,\n",
       "           2.0018e-01,  5.7021e-02,  1.3855e-01,  1.3256e-01,  4.7282e-02],\n",
       "         [-2.2255e-02, -1.3475e-02, -3.8500e-02, -3.9932e-02, -1.0535e-01,\n",
       "          -9.9983e-02,  7.1769e-02, -2.0918e-01,  1.1537e-01, -4.5126e-02,\n",
       "           1.3997e-01,  9.3697e-02,  1.3436e-01,  1.3952e-01,  8.7872e-02,\n",
       "           1.9538e-01,  4.6414e-02, -2.0693e-01, -2.7586e-02, -1.4040e-01],\n",
       "         [ 1.3154e-01, -4.8423e-03, -1.0411e-02,  4.0355e-02, -1.2307e-01,\n",
       "           6.0463e-02,  1.0821e-01, -4.3828e-03, -1.4965e-01,  2.5832e-02,\n",
       "           1.2157e-01, -6.2361e-02,  1.9717e-01, -2.7995e-02, -1.4527e-01,\n",
       "          -4.3188e-02,  5.9983e-02,  1.6323e-01, -1.9992e-01, -6.9812e-02],\n",
       "         [-1.2145e-01,  1.9390e-02,  1.5127e-01,  1.9266e-01, -1.0580e-05,\n",
       "           1.6468e-01,  1.4117e-01, -2.0394e-01,  1.4923e-01, -9.1088e-02,\n",
       "           1.4058e-01,  6.3819e-02,  1.2300e-01,  1.7192e-01, -2.0603e-01,\n",
       "          -3.2449e-02, -7.5266e-02,  5.3697e-02, -2.0624e-01,  1.7558e-01],\n",
       "         [ 1.8377e-01,  1.0519e-01,  2.1599e-01, -4.5582e-02, -8.6107e-02,\n",
       "           8.4429e-02, -1.4112e-01, -1.7061e-01,  9.5540e-02,  1.9334e-01,\n",
       "           1.1271e-01, -1.1115e-01,  8.5161e-02,  8.4619e-02,  2.1853e-02,\n",
       "           8.8822e-02,  1.1337e-01, -1.1916e-01,  1.9487e-01, -1.5102e-01]],\n",
       "        device='cuda:0', requires_grad=True),\n",
       " Parameter containing:\n",
       " tensor([ 0.1122,  0.0949, -0.0005,  0.1487,  0.0525, -0.1310, -0.1913,  0.1430,\n",
       "         -0.0915,  0.1709], device='cuda:0', requires_grad=True)]"
      ]
     },
     "execution_count": 89,
     "metadata": {},
     "output_type": "execute_result"
    }
   ],
   "source": [
    "list(network.parameters())"
   ]
  },
  {
   "cell_type": "markdown",
   "metadata": {},
   "source": [
    "# Training a network using SGD [2 points]"
   ]
  },
  {
   "cell_type": "markdown",
   "metadata": {},
   "source": [
    "Implement SGD in ``optimizer.py`` as introduced in the lecture and do not use the SGD otimizer included in PyTorch. Test your implementation by running the cell below:"
   ]
  },
  {
   "cell_type": "code",
   "execution_count": 91,
   "metadata": {},
   "outputs": [],
   "source": [
    "from optimizer import SGD\n",
    "\n",
    "net = SimpleNet2()\n",
    "\n",
    "net.load_state_dict(torch.load('net_params'))\n",
    "\n",
    "batch = next(iter(DataLoader(train_set, batch_size=4)))\n",
    "\n",
    "op = net(batch[0])\n",
    "\n",
    "l = loss_fun(op, batch[1])\n",
    "\n",
    "l.backward()\n",
    "\n",
    "optim = SGD(net.parameters())\n",
    "\n",
    "optim.step()\n",
    "\n",
    "state_dict = net.state_dict()\n",
    "target_state_dict = torch.load('net_params_updated')\n",
    "\n",
    "for key in state_dict:\n",
    "    assert (state_dict[key] - target_state_dict[key]).abs().max() < 1e-6 # 1 point\n",
    "\n",
    "optim.zero_grad()\n",
    "\n",
    "for param in net.parameters():\n",
    "    assert param.grad.abs().max() == 0 # 1 point"
   ]
  },
  {
   "cell_type": "code",
   "execution_count": null,
   "metadata": {},
   "outputs": [],
   "source": []
  }
 ],
 "metadata": {
  "kernelspec": {
   "display_name": "Python 3",
   "language": "python",
   "name": "python3"
  },
  "language_info": {
   "codemirror_mode": {
    "name": "ipython",
    "version": 3
   },
   "file_extension": ".py",
   "mimetype": "text/x-python",
   "name": "python",
   "nbconvert_exporter": "python",
   "pygments_lexer": "ipython3",
   "version": "3.8.3"
  }
 },
 "nbformat": 4,
 "nbformat_minor": 2
}
