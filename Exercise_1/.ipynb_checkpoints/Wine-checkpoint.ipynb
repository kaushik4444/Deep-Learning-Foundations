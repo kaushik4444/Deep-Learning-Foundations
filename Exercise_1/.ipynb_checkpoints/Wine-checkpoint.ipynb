{
 "cells": [
  {
   "cell_type": "code",
   "execution_count": 22,
   "metadata": {},
   "outputs": [
    {
     "name": "stdout",
     "output_type": "stream",
     "text": [
      "The autoreload extension is already loaded. To reload it, use:\n",
      "  %reload_ext autoreload\n"
     ]
    }
   ],
   "source": [
    "%load_ext autoreload\n",
    "%autoreload 2\n",
    "import numpy as np"
   ]
  },
  {
   "cell_type": "markdown",
   "metadata": {},
   "source": [
    "# Wine quality prediction"
   ]
  },
  {
   "cell_type": "markdown",
   "metadata": {},
   "source": [
    "In this notebook it is your task to implement linear regression as discussed in the lecture using NumPy.\n",
    "\n",
    "The wine dataset is provided by:\n",
    "<br>\n",
    "P. Cortez, A. Cerdeira, F. Almeida, T. Matos and J. Reis: \"Modeling wine preferences by data mining from physicochemical properties\", in Decision Support Systems, Elsevier, 47(4):547-553, 2009. The dataset is available at http://www3.dsi.uminho.pt/pcortez/wine/. The data"
   ]
  },
  {
   "cell_type": "markdown",
   "metadata": {},
   "source": [
    "Implement the functions ```load_data```, ```fit```, ```predict``` and ```energy``` according to the instructions in ```linear_regression.py```. Test your code by running the cells below."
   ]
  },
  {
   "cell_type": "code",
   "execution_count": 23,
   "metadata": {},
   "outputs": [],
   "source": [
    "import linreg # import your code"
   ]
  },
  {
   "cell_type": "markdown",
   "metadata": {},
   "source": [
    "First, load the data matirces from the ```.csv``` files:"
   ]
  },
  {
   "cell_type": "code",
   "execution_count": 26,
   "metadata": {},
   "outputs": [
    {
     "ename": "SyntaxError",
     "evalue": "invalid syntax (<ipython-input-26-325d1e93d679>, line 3)",
     "output_type": "error",
     "traceback": [
      "\u001b[1;36m  File \u001b[1;32m\"<ipython-input-26-325d1e93d679>\"\u001b[1;36m, line \u001b[1;32m3\u001b[0m\n\u001b[1;33m    path = \"winequality/winequality-red.csv\"num_train = 1200\u001b[0m\n\u001b[1;37m                                            ^\u001b[0m\n\u001b[1;31mSyntaxError\u001b[0m\u001b[1;31m:\u001b[0m invalid syntax\n"
     ]
    }
   ],
   "source": [
    "#num_train = 3674\n",
    "#num_test = 1224\n",
    "#path = \"winequality/winequality-white.csv\"\n",
    "num_train = 1200\n",
    "num_test = 400\n",
    "path = \"winequality/winequality-red.csv\"\n",
    "\n",
    "# load data matrices\n",
    "X_train, Y_train, X_test, Y_test = linreg.load_data(path, num_train)"
   ]
  },
  {
   "cell_type": "markdown",
   "metadata": {},
   "source": [
    "Throughout this course we will provide you with assertion blocks like the following testing your implementation. If those assertions throw an error your code doesn't behave as expected. If there is no output, your code is very likely correct! However, we will use different data for the final grading, so this is no guarantee."
   ]
  },
  {
   "cell_type": "code",
   "execution_count": 25,
   "metadata": {},
   "outputs": [
    {
     "ename": "AssertionError",
     "evalue": "Wrong shape of X_train!",
     "output_type": "error",
     "traceback": [
      "\u001b[1;31m---------------------------------------------------------------------------\u001b[0m",
      "\u001b[1;31mAssertionError\u001b[0m                            Traceback (most recent call last)",
      "\u001b[1;32m<ipython-input-25-2b78854696c0>\u001b[0m in \u001b[0;36m<module>\u001b[1;34m\u001b[0m\n\u001b[0;32m      1\u001b[0m \u001b[1;31m# test your implementation\u001b[0m\u001b[1;33m\u001b[0m\u001b[1;33m\u001b[0m\u001b[1;33m\u001b[0m\u001b[0m\n\u001b[1;32m----> 2\u001b[1;33m \u001b[1;32massert\u001b[0m \u001b[0mX_train\u001b[0m\u001b[1;33m.\u001b[0m\u001b[0mshape\u001b[0m \u001b[1;33m==\u001b[0m \u001b[1;33m(\u001b[0m\u001b[1;36m3674\u001b[0m\u001b[1;33m,\u001b[0m \u001b[1;36m11\u001b[0m\u001b[1;33m)\u001b[0m\u001b[1;33m,\u001b[0m \u001b[1;34m\"Wrong shape of X_train!\"\u001b[0m\u001b[1;33m\u001b[0m\u001b[1;33m\u001b[0m\u001b[0m\n\u001b[0m\u001b[0;32m      3\u001b[0m \u001b[1;32massert\u001b[0m \u001b[0mX_train\u001b[0m\u001b[1;33m[\u001b[0m\u001b[1;36m2\u001b[0m\u001b[1;33m,\u001b[0m \u001b[1;36m3\u001b[0m\u001b[1;33m]\u001b[0m \u001b[1;33m==\u001b[0m \u001b[1;36m6.9\u001b[0m\u001b[1;33m,\u001b[0m \u001b[1;34m\"Wrong data in X_train!\"\u001b[0m\u001b[1;33m\u001b[0m\u001b[1;33m\u001b[0m\u001b[0m\n",
      "\u001b[1;31mAssertionError\u001b[0m: Wrong shape of X_train!"
     ]
    }
   ],
   "source": [
    "# test your implementation\n",
    "assert X_train.shape == (3674, 11), \"Wrong shape of X_train!\"\n",
    "assert X_train[2, 3] == 6.9, \"Wrong data in X_train!\""
   ]
  },
  {
   "cell_type": "markdown",
   "metadata": {},
   "source": [
    "Now let's fit a linear regression model to the data"
   ]
  },
  {
   "cell_type": "code",
   "execution_count": 13,
   "metadata": {},
   "outputs": [
    {
     "name": "stdout",
     "output_type": "stream",
     "text": [
      "Fitted weights:\n",
      "[ 3.64040979e-02 -1.67441778e+00 -3.28922992e-02  7.91544705e-02\n",
      "  7.67022760e-03  5.09975144e-03 -2.91875855e-04 -1.47662461e+02\n",
      "  7.11452522e-01  8.06378156e-01  2.35282422e-01  1.47153125e+02]\n"
     ]
    }
   ],
   "source": [
    "# fit training data\n",
    "\n",
    "theta = linreg.fit(X_train, Y_train)\n",
    "\n",
    "print(\"Fitted weights:\")\n",
    "print(theta)"
   ]
  },
  {
   "cell_type": "code",
   "execution_count": 14,
   "metadata": {},
   "outputs": [],
   "source": [
    "# test your implementation\n",
    "np.random.seed(0)\n",
    "X_ass = np.random.randn(10, 5)\n",
    "Y_ass = np.random.randn(10)\n",
    "theta_ass = linreg.fit(X_ass, Y_ass)\n",
    "assert np.abs(theta_ass[0] + 0.20) <= 1e-2, \"Wrong value of theta!\""
   ]
  },
  {
   "cell_type": "markdown",
   "metadata": {},
   "source": [
    "Finally, we test the linear inference behavior of your model."
   ]
  },
  {
   "cell_type": "code",
   "execution_count": 21,
   "metadata": {},
   "outputs": [
    {
     "name": "stdout",
     "output_type": "stream",
     "text": [
      "MSE loss on test data: 0.5338762548458729\n"
     ]
    }
   ],
   "source": [
    "# perform prediction on the test set\n",
    "Y_pred = linreg.predict(X_test, theta)\n",
    "en = linreg.energy(Y_pred, Y_test)\n",
    "print(f\"MSE loss on test data: {en / num_test}\") # printing the MSE loss"
   ]
  },
  {
   "cell_type": "code",
   "execution_count": 20,
   "metadata": {},
   "outputs": [],
   "source": [
    "# test your implementation\n",
    "np.random.seed(0)\n",
    "pred_ass = linreg.predict(np.random.randn(5, 4),\n",
    "                          np.random.randn(5))\n",
    "en_ass = linreg.energy(np.random.randn(3), np.random.randn(3))\n",
    "assert np.abs(pred_ass[0] + 2.7894) <= 1e-4, \"Wrong prediction!\"\n",
    "assert np.abs(en_ass - 11.0667) <= 1e-4, \"Wrong energy!\""
   ]
  },
  {
   "cell_type": "code",
   "execution_count": null,
   "metadata": {},
   "outputs": [],
   "source": []
  }
 ],
 "metadata": {
  "kernelspec": {
   "display_name": "Python 3",
   "language": "python",
   "name": "python3"
  },
  "language_info": {
   "codemirror_mode": {
    "name": "ipython",
    "version": 3
   },
   "file_extension": ".py",
   "mimetype": "text/x-python",
   "name": "python",
   "nbconvert_exporter": "python",
   "pygments_lexer": "ipython3",
   "version": "3.8.3"
  }
 },
 "nbformat": 4,
 "nbformat_minor": 2
}
